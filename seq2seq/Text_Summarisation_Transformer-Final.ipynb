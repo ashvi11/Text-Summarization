{
 "cells": [
  {
   "cell_type": "code",
   "execution_count": 1,
   "metadata": {},
   "outputs": [],
   "source": [
    "import re\n",
    "import matplotlib.pyplot as plt\n",
    "from sklearn.utils import shuffle\n",
    "import os\n",
    "import time\n",
    "import numpy as np\n",
    "import pandas as pd \n",
    "import unicodedata\n",
    "import tensorflow as tf\n",
    "import tensorflow.keras as krs\n",
    "from tensorflow.keras.layers import Embedding\n",
    "from tensorflow.keras.optimizers import Adam\n",
    "from tensorflow.keras.losses import SparseCategoricalCrossentropy, CategoricalCrossentropy\n",
    "from tensorflow.keras.preprocessing.text import Tokenizer \n",
    "from tensorflow.keras.optimizers.schedules import LearningRateSchedule\n",
    "import csv"
   ]
  },
  {
   "cell_type": "code",
   "execution_count": 2,
   "metadata": {},
   "outputs": [
    {
     "data": {
      "text/html": [
       "<div>\n",
       "<style scoped>\n",
       "    .dataframe tbody tr th:only-of-type {\n",
       "        vertical-align: middle;\n",
       "    }\n",
       "\n",
       "    .dataframe tbody tr th {\n",
       "        vertical-align: top;\n",
       "    }\n",
       "\n",
       "    .dataframe thead th {\n",
       "        text-align: right;\n",
       "    }\n",
       "</style>\n",
       "<table border=\"1\" class=\"dataframe\">\n",
       "  <thead>\n",
       "    <tr style=\"text-align: right;\">\n",
       "      <th></th>\n",
       "      <th>short</th>\n",
       "      <th>long</th>\n",
       "      <th>Source</th>\n",
       "      <th>Time</th>\n",
       "      <th>Publish Date</th>\n",
       "    </tr>\n",
       "  </thead>\n",
       "  <tbody>\n",
       "    <tr>\n",
       "      <th>0</th>\n",
       "      <td>4 ex-bank officials booked for cheating bank o...</td>\n",
       "      <td>The CBI on Saturday booked four former officia...</td>\n",
       "      <td>The New Indian Express</td>\n",
       "      <td>09:25:00</td>\n",
       "      <td>2017-03-26</td>\n",
       "    </tr>\n",
       "    <tr>\n",
       "      <th>1</th>\n",
       "      <td>Supreme Court to go paperless in 6 months: CJI</td>\n",
       "      <td>Chief Justice JS Khehar has said the Supreme C...</td>\n",
       "      <td>Outlook</td>\n",
       "      <td>22:18:00</td>\n",
       "      <td>2017-03-25</td>\n",
       "    </tr>\n",
       "    <tr>\n",
       "      <th>2</th>\n",
       "      <td>At least 3 killed, 30 injured in blast in Sylh...</td>\n",
       "      <td>At least three people were killed, including a...</td>\n",
       "      <td>Hindustan Times</td>\n",
       "      <td>23:39:00</td>\n",
       "      <td>2017-03-25</td>\n",
       "    </tr>\n",
       "    <tr>\n",
       "      <th>3</th>\n",
       "      <td>Why has Reliance been barred from trading in f...</td>\n",
       "      <td>Mukesh Ambani-led Reliance Industries (RIL) wa...</td>\n",
       "      <td>Livemint</td>\n",
       "      <td>23:08:00</td>\n",
       "      <td>2017-03-25</td>\n",
       "    </tr>\n",
       "    <tr>\n",
       "      <th>4</th>\n",
       "      <td>Was stopped from entering my own studio at Tim...</td>\n",
       "      <td>TV news anchor Arnab Goswami has said he was t...</td>\n",
       "      <td>YouTube</td>\n",
       "      <td>23:24:00</td>\n",
       "      <td>2017-03-25</td>\n",
       "    </tr>\n",
       "  </tbody>\n",
       "</table>\n",
       "</div>"
      ],
      "text/plain": [
       "                                               short  \\\n",
       "0  4 ex-bank officials booked for cheating bank o...   \n",
       "1     Supreme Court to go paperless in 6 months: CJI   \n",
       "2  At least 3 killed, 30 injured in blast in Sylh...   \n",
       "3  Why has Reliance been barred from trading in f...   \n",
       "4  Was stopped from entering my own studio at Tim...   \n",
       "\n",
       "                                                long                 Source   \\\n",
       "0  The CBI on Saturday booked four former officia...  The New Indian Express   \n",
       "1  Chief Justice JS Khehar has said the Supreme C...                 Outlook   \n",
       "2  At least three people were killed, including a...         Hindustan Times   \n",
       "3  Mukesh Ambani-led Reliance Industries (RIL) wa...                Livemint   \n",
       "4  TV news anchor Arnab Goswami has said he was t...                 YouTube   \n",
       "\n",
       "      Time  Publish Date  \n",
       "0  09:25:00   2017-03-26  \n",
       "1  22:18:00   2017-03-25  \n",
       "2  23:39:00   2017-03-25  \n",
       "3  23:08:00   2017-03-25  \n",
       "4  23:24:00   2017-03-25  "
      ]
     },
     "execution_count": 2,
     "metadata": {},
     "output_type": "execute_result"
    }
   ],
   "source": [
    "\"\"\"Reading the input data file \"\"\"\n",
    "\n",
    "raw_data = pd.read_excel('news_inshort.xlsx')\n",
    "raw_data.head()"
   ]
  },
  {
   "cell_type": "code",
   "execution_count": 3,
   "metadata": {},
   "outputs": [
    {
     "data": {
      "text/html": [
       "<div>\n",
       "<style scoped>\n",
       "    .dataframe tbody tr th:only-of-type {\n",
       "        vertical-align: middle;\n",
       "    }\n",
       "\n",
       "    .dataframe tbody tr th {\n",
       "        vertical-align: top;\n",
       "    }\n",
       "\n",
       "    .dataframe thead th {\n",
       "        text-align: right;\n",
       "    }\n",
       "</style>\n",
       "<table border=\"1\" class=\"dataframe\">\n",
       "  <thead>\n",
       "    <tr style=\"text-align: right;\">\n",
       "      <th></th>\n",
       "      <th>short</th>\n",
       "      <th>long</th>\n",
       "      <th>Source</th>\n",
       "      <th>Time</th>\n",
       "      <th>Publish Date</th>\n",
       "    </tr>\n",
       "  </thead>\n",
       "  <tbody>\n",
       "    <tr>\n",
       "      <th>51423</th>\n",
       "      <td>One of Indonesia&amp;#39;s oldest red-light area r...</td>\n",
       "      <td>Indonesian authorities on Monday closed brothe...</td>\n",
       "      <td>Outlook</td>\n",
       "      <td>18:38:00</td>\n",
       "      <td>2016-02-29</td>\n",
       "    </tr>\n",
       "    <tr>\n",
       "      <th>14219</th>\n",
       "      <td>Akshay only B&amp;#39;wood actor to give three ₹10...</td>\n",
       "      <td>Akshay Kumar became the only Bollywood actor w...</td>\n",
       "      <td>Inshorts</td>\n",
       "      <td>14:35:00</td>\n",
       "      <td>2016-12-25</td>\n",
       "    </tr>\n",
       "    <tr>\n",
       "      <th>52677</th>\n",
       "      <td>Al-Shabaab claims Somalia plane bombing</td>\n",
       "      <td>Al-Shabaab, al Qaeda&amp;#39;s affiliate in Somali...</td>\n",
       "      <td>Xinhua News</td>\n",
       "      <td>12:36:00</td>\n",
       "      <td>2016-02-14</td>\n",
       "    </tr>\n",
       "    <tr>\n",
       "      <th>2138</th>\n",
       "      <td>Kareena replaces Katrina for performance at Ze...</td>\n",
       "      <td>Actress Kareena Kapoor has replaced Katrina Ka...</td>\n",
       "      <td>SpotboyE</td>\n",
       "      <td>17:30:00</td>\n",
       "      <td>2017-03-11</td>\n",
       "    </tr>\n",
       "    <tr>\n",
       "      <th>51617</th>\n",
       "      <td>Delhi Court discharges 2 terror suspects</td>\n",
       "      <td>Due to lack of evidence, two suspected Indian ...</td>\n",
       "      <td>Phys</td>\n",
       "      <td>11:35:00</td>\n",
       "      <td>2016-02-27</td>\n",
       "    </tr>\n",
       "  </tbody>\n",
       "</table>\n",
       "</div>"
      ],
      "text/plain": [
       "                                                   short  \\\n",
       "51423  One of Indonesia&#39;s oldest red-light area r...   \n",
       "14219  Akshay only B&#39;wood actor to give three ₹10...   \n",
       "52677            Al-Shabaab claims Somalia plane bombing   \n",
       "2138   Kareena replaces Katrina for performance at Ze...   \n",
       "51617           Delhi Court discharges 2 terror suspects   \n",
       "\n",
       "                                                    long      Source   \\\n",
       "51423  Indonesian authorities on Monday closed brothe...      Outlook   \n",
       "14219  Akshay Kumar became the only Bollywood actor w...     Inshorts   \n",
       "52677  Al-Shabaab, al Qaeda&#39;s affiliate in Somali...  Xinhua News   \n",
       "2138   Actress Kareena Kapoor has replaced Katrina Ka...     SpotboyE   \n",
       "51617  Due to lack of evidence, two suspected Indian ...         Phys   \n",
       "\n",
       "          Time  Publish Date  \n",
       "51423  18:38:00   2016-02-29  \n",
       "14219  14:35:00   2016-12-25  \n",
       "52677  12:36:00   2016-02-14  \n",
       "2138   17:30:00   2017-03-11  \n",
       "51617  11:35:00   2016-02-27  "
      ]
     },
     "execution_count": 3,
     "metadata": {},
     "output_type": "execute_result"
    }
   ],
   "source": [
    "\"\"\"shuffling the data of the input file \"\"\"\n",
    "\n",
    "raw_data = shuffle(raw_data)\n",
    "raw_data.head()"
   ]
  },
  {
   "cell_type": "code",
   "execution_count": 4,
   "metadata": {},
   "outputs": [
    {
     "data": {
      "text/plain": [
       "((55104, 1), (55104, 1))"
      ]
     },
     "execution_count": 4,
     "metadata": {},
     "output_type": "execute_result"
    }
   ],
   "source": [
    "\n",
    "\"\"\"Creating seperate dataframes for the actual news and for the short summary \"\"\"\n",
    "\n",
    "short_summary, actual_news = pd.DataFrame(), pd.DataFrame()\n",
    "short_summary['short'] = raw_data['short']\n",
    "actual_news['long'] = raw_data['long']\n",
    "(short_summary.shape,actual_news.shape)"
   ]
  },
  {
   "cell_type": "code",
   "execution_count": 5,
   "metadata": {},
   "outputs": [],
   "source": [
    "\n",
    "\"\"\"Pre processing the data so as to obtain clean sentences to generate tokens.\n",
    "Doing lower casing,normalization,removing special characters etc. \"\"\"\n",
    "\n",
    "def data_preprocessing(text_line):\n",
    "    text_line = str(text_line).lower()\n",
    "    text_line = unicodedata.normalize('NFKD', text_line).encode('ascii', 'ignore').decode('utf-8', 'ignore') # for converting é to e and other accented chars\n",
    "    text_line = re.sub(r\"http\\S+\",\"\",text_line)\n",
    "    text_line = re.sub(r\"there's\", \"there is\", text_line)\n",
    "    text_line = re.sub(r\"i'm\", \"i am\", text_line)\n",
    "    text_line = re.sub(r\"he's\", \"he is\", text_line)\n",
    "    text_line = re.sub(r\"she's\", \"she is\", text_line)\n",
    "    text_line = re.sub(r\"it's\", \"it is\", text_line)\n",
    "    text_line = re.sub(r\"that's\", \"that is\", text_line)\n",
    "    text_line = re.sub(r\"what's\", \"that is\", text_line)\n",
    "    text_line = re.sub(r\"where's\", \"where is\", text_line)\n",
    "    text_line = re.sub(r\"how's\", \"how is\", text_line)\n",
    "    text_line = re.sub(r\"\\'ll\", \" will\", text_line)\n",
    "    text_line = re.sub(r\"\\'ve\", \" have\", text_line)\n",
    "    text_line = re.sub(r\"\\'re\", \" are\", text_line)\n",
    "    text_line = re.sub(r\"\\'d\", \" would\", text_line)\n",
    "    text_line = re.sub(r\"\\'re\", \" are\", text_line)\n",
    "    text_line = re.sub(r\"won't\", \"will not\", text_line)\n",
    "    text_line = re.sub(r\"can't\", \"cannot\", text_line)\n",
    "    text_line = re.sub(r\"n't\", \" not\", text_line)\n",
    "    text_line = re.sub(r\"n'\", \"ng\", text_line)\n",
    "    text_line = re.sub(r\"'bout\", \"about\", text_line)\n",
    "    text_line = re.sub(r\"'til\", \"until\", text_line)\n",
    "    text_line = re.sub(r\"\\\"\", \"\", text_line)\n",
    "    text_line = re.sub(r\"\\'\", \"\", text_line)\n",
    "    text_line = re.sub(r' s ', \"\",text_line)\n",
    "    text_line = re.sub(r\"&39\", \"\", text_line)\n",
    "    text_line = re.sub(r\"&34\", \"\", text_line)\n",
    "    text_line = re.sub(r\"[\\[\\]\\\\0-9()\\\"$#%/@;:<>{}`+=~|.!?,-]\", \"\", text_line)\n",
    "    text_line = re.sub(r\"&\", \"\", text_line)\n",
    "    text_line = re.sub(r\"\\\\n\", \"\", text_line)\n",
    "    text_line = text_line.strip()\n",
    "    return text_line"
   ]
  },
  {
   "cell_type": "code",
   "execution_count": 6,
   "metadata": {},
   "outputs": [
    {
     "data": {
      "text/html": [
       "<div>\n",
       "<style scoped>\n",
       "    .dataframe tbody tr th:only-of-type {\n",
       "        vertical-align: middle;\n",
       "    }\n",
       "\n",
       "    .dataframe tbody tr th {\n",
       "        vertical-align: top;\n",
       "    }\n",
       "\n",
       "    .dataframe thead th {\n",
       "        text-align: right;\n",
       "    }\n",
       "</style>\n",
       "<table border=\"1\" class=\"dataframe\">\n",
       "  <thead>\n",
       "    <tr style=\"text-align: right;\">\n",
       "      <th></th>\n",
       "      <th>long</th>\n",
       "    </tr>\n",
       "  </thead>\n",
       "  <tbody>\n",
       "    <tr>\n",
       "      <th>51423</th>\n",
       "      <td>indonesian authorities on monday closed brothe...</td>\n",
       "    </tr>\n",
       "    <tr>\n",
       "      <th>14219</th>\n",
       "      <td>akshay kumar became the only bollywood actor w...</td>\n",
       "    </tr>\n",
       "    <tr>\n",
       "      <th>52677</th>\n",
       "      <td>alshabaab al qaedas affiliate in somalia on sa...</td>\n",
       "    </tr>\n",
       "    <tr>\n",
       "      <th>2138</th>\n",
       "      <td>actress kareena kapoor has replaced katrina ka...</td>\n",
       "    </tr>\n",
       "    <tr>\n",
       "      <th>51617</th>\n",
       "      <td>due to lack of evidence two suspected indian m...</td>\n",
       "    </tr>\n",
       "  </tbody>\n",
       "</table>\n",
       "</div>"
      ],
      "text/plain": [
       "                                                    long\n",
       "51423  indonesian authorities on monday closed brothe...\n",
       "14219  akshay kumar became the only bollywood actor w...\n",
       "52677  alshabaab al qaedas affiliate in somalia on sa...\n",
       "2138   actress kareena kapoor has replaced katrina ka...\n",
       "51617  due to lack of evidence two suspected indian m..."
      ]
     },
     "execution_count": 6,
     "metadata": {},
     "output_type": "execute_result"
    }
   ],
   "source": [
    "\"\"\"performing the data pre processing on both the short summary and the actual news \"\"\"\n",
    "\n",
    "short_summary['short'] = short_summary['short'].apply(lambda x: data_preprocessing(x))\n",
    "actual_news['long'] = actual_news['long'].apply(lambda x: data_preprocessing(x))\n",
    "actual_news.head()"
   ]
  },
  {
   "cell_type": "code",
   "execution_count": 7,
   "metadata": {},
   "outputs": [
    {
     "data": {
      "text/html": [
       "<div>\n",
       "<style scoped>\n",
       "    .dataframe tbody tr th:only-of-type {\n",
       "        vertical-align: middle;\n",
       "    }\n",
       "\n",
       "    .dataframe tbody tr th {\n",
       "        vertical-align: top;\n",
       "    }\n",
       "\n",
       "    .dataframe thead th {\n",
       "        text-align: right;\n",
       "    }\n",
       "</style>\n",
       "<table border=\"1\" class=\"dataframe\">\n",
       "  <thead>\n",
       "    <tr style=\"text-align: right;\">\n",
       "      <th></th>\n",
       "      <th>short</th>\n",
       "    </tr>\n",
       "  </thead>\n",
       "  <tbody>\n",
       "    <tr>\n",
       "      <th>51423</th>\n",
       "      <td>&lt;startseq&gt; one of indonesias oldest redlight a...</td>\n",
       "    </tr>\n",
       "    <tr>\n",
       "      <th>14219</th>\n",
       "      <td>&lt;startseq&gt; akshay only bwood actor to give thr...</td>\n",
       "    </tr>\n",
       "    <tr>\n",
       "      <th>52677</th>\n",
       "      <td>&lt;startseq&gt; alshabaab claims somalia plane bomb...</td>\n",
       "    </tr>\n",
       "    <tr>\n",
       "      <th>2138</th>\n",
       "      <td>&lt;startseq&gt; kareena replaces katrina for perfor...</td>\n",
       "    </tr>\n",
       "    <tr>\n",
       "      <th>51617</th>\n",
       "      <td>&lt;startseq&gt; delhi court discharges  terror susp...</td>\n",
       "    </tr>\n",
       "  </tbody>\n",
       "</table>\n",
       "</div>"
      ],
      "text/plain": [
       "                                                   short\n",
       "51423  <startseq> one of indonesias oldest redlight a...\n",
       "14219  <startseq> akshay only bwood actor to give thr...\n",
       "52677  <startseq> alshabaab claims somalia plane bomb...\n",
       "2138   <startseq> kareena replaces katrina for perfor...\n",
       "51617  <startseq> delhi court discharges  terror susp..."
      ]
     },
     "execution_count": 7,
     "metadata": {},
     "output_type": "execute_result"
    }
   ],
   "source": [
    "\"\"\"Initialising the start and the ned tokens\"\"\"\n",
    "start_token, end_token = '<startseq>' , '<endseq>'\n",
    "short_summary = short_summary.apply(lambda x: start_token + ' ' + x + ' ' + end_token)\n",
    "short_summary.head()"
   ]
  },
  {
   "cell_type": "code",
   "execution_count": 8,
   "metadata": {},
   "outputs": [
    {
     "data": {
      "text/plain": [
       "(long    agra and sikkim have featured in the  places t...\n",
       " Name: 12120, dtype: object,\n",
       " short    <startseq> agra sikkim feature in  places to g...\n",
       " Name: 12120, dtype: object)"
      ]
     },
     "execution_count": 8,
     "metadata": {},
     "output_type": "execute_result"
    }
   ],
   "source": [
    "#Splitting the dataset into training and validation\n",
    "\n",
    "splitting_ratio_value = 0.1\n",
    "# train validation split\n",
    "short_summary_train = short_summary[int(len(short_summary)*splitting_ratio_value):]\n",
    "short_summary_val = short_summary[:int(len(short_summary)*splitting_ratio_value)]\n",
    "actual_news_train = actual_news[int(len(short_summary)*splitting_ratio_value):]\n",
    "actual_news_val = actual_news[:int(len(short_summary)*splitting_ratio_value)]\n",
    "\n",
    "len(actual_news_val),len(actual_news_train)\n",
    "\n",
    "actual_news_train.iloc[0], short_summary_train.iloc[0]"
   ]
  },
  {
   "cell_type": "code",
   "execution_count": 9,
   "metadata": {},
   "outputs": [],
   "source": [
    "\n",
    "BUFFER_SIZE = 20000\n",
    "BATCH_SIZE = 64\n",
    "dimension_embedding = 200"
   ]
  },
  {
   "cell_type": "code",
   "execution_count": 10,
   "metadata": {},
   "outputs": [],
   "source": [
    "#Calculating the length which is maximum for most of the text_lines in the dataset\n",
    "\n",
    "def calcualting_maximum_length(shorts, longs, percent):\n",
    "    \n",
    "    actual_news_length = list(len(d.split()) for d in longs)\n",
    "    short_summary_length = list(len(d.split()) for d in shorts)\n",
    "\n",
    "    print('percentile {} of length of news: {}'.format(percent,np.percentile(actual_news_length, percent)))\n",
    "    print('longest text_line: ', max(actual_news_length))\n",
    "    print()\n",
    "    print('percentile {} of length of short_summary: {}'.format(percent,np.percentile(short_summary_length, percent)))\n",
    "    print('longest text_line: ', max(short_summary_length))\n",
    "    print()\n",
    "    return int(np.percentile(actual_news_length, percent)),int(np.percentile(short_summary_length, percent))"
   ]
  },
  {
   "cell_type": "code",
   "execution_count": 11,
   "metadata": {},
   "outputs": [
    {
     "name": "stdout",
     "output_type": "stream",
     "text": [
      "percentile 90 of length of news: 60.0\n",
      "longest text_line:  66\n",
      "\n",
      "percentile 90 of length of short_summary: 12.0\n",
      "longest text_line:  16\n",
      "\n",
      "max-length actual_news chosen for training:  60\n",
      "max-length short_summary chosen for training:  12\n"
     ]
    }
   ],
   "source": [
    "# selecting text_line length based on the percentile of data that fits in the length\n",
    "actual_news_maximum_length, short_summary_maximum_length= calcualting_maximum_length(short_summary_train['short'].to_list(), actual_news_train['long'].to_list(), 90)\n",
    "print('max-length actual_news chosen for training: ', actual_news_maximum_length)\n",
    "print('max-length short_summary chosen for training: ', short_summary_maximum_length)"
   ]
  },
  {
   "cell_type": "code",
   "execution_count": 12,
   "metadata": {},
   "outputs": [],
   "source": [
    "# making a vocabulary of the words \n",
    "def word_collection(shorts, longs = None, minimum_occurances = 3):\n",
    "    # Create a list of all the captions\n",
    "    word_list = []\n",
    "    for s in shorts:\n",
    "        word_list.append(s)\n",
    "    # Consider only words which occur at least minimum_occurrence times in the corpus\n",
    "    counter_words = {}\n",
    "    counter = 0\n",
    "    for line in word_list:\n",
    "        counter += 1\n",
    "        for w in line.split(' '):\n",
    "            counter_words[w] = counter_words.get(w, 0) + 1\n",
    "    word_collection = [w for w in counter_words if counter_words[w] >= minimum_occurances]\n",
    "    word_collection = list(set(word_collection))\n",
    "    return word_collection"
   ]
  },
  {
   "cell_type": "code",
   "execution_count": 13,
   "metadata": {},
   "outputs": [
    {
     "data": {
      "text/plain": [
       "['<endseq>',\n",
       " '<startseq>',\n",
       " 'a',\n",
       " 'aa',\n",
       " 'aadhaar',\n",
       " 'aadmi',\n",
       " 'aam',\n",
       " 'aamir',\n",
       " 'aamirs',\n",
       " 'aap']"
      ]
     },
     "execution_count": 13,
     "metadata": {},
     "output_type": "execute_result"
    }
   ],
   "source": [
    "decoder_vocabulary = word_collection(short_summary_train['short'].to_list(), minimum_occurances=5)\n",
    "for v in decoder_vocabulary:\n",
    "    if len(v) == 1 and v!='a' and v!='i':\n",
    "        decoder_vocabulary.remove(v)\n",
    "        \n",
    "decoder_vocabulary = sorted(decoder_vocabulary)[1:]\n",
    "decoder_vocabulary[:10]\n",
    "\n"
   ]
  },
  {
   "cell_type": "code",
   "execution_count": 14,
   "metadata": {},
   "outputs": [
    {
     "data": {
      "text/plain": [
       "['****ing',\n",
       " 'a',\n",
       " 'aa',\n",
       " 'aaa',\n",
       " 'aadhaar',\n",
       " 'aadhaarbased',\n",
       " 'aadhaarenabled',\n",
       " 'aadhaarlinked',\n",
       " 'aadhaars',\n",
       " 'aadhar']"
      ]
     },
     "execution_count": 14,
     "metadata": {},
     "output_type": "execute_result"
    }
   ],
   "source": [
    "encoder_vocabulary = word_collection(actual_news_train['long'].to_list(), minimum_occurances=3)\n",
    "\n",
    "for v in encoder_vocabulary:\n",
    "    if len(v) == 1 and v!='a' and v!='i':\n",
    "        encoder_vocabulary.remove(v)\n",
    "        \n",
    "encoder_vocabulary = sorted(encoder_vocabulary)[1:]\n",
    "encoder_vocabulary[:10]"
   ]
  },
  {
   "cell_type": "code",
   "execution_count": 15,
   "metadata": {},
   "outputs": [],
   "source": [
    "\n",
    "# removing all the out of the vocabulary words in the data and also making sure to remove all the non digits\n",
    "oov_token = '<UNK>'\n",
    "filters = '!\"#$%&()*+,-./:;=?@[\\\\]^_`{|}~\\t\\n' \n",
    "actual_news_tokenizer = krs.preprocessing.text.Tokenizer(filters = filters,oov_token=oov_token)\n",
    "short_summary_tokenizer = krs.preprocessing.text.Tokenizer(filters = filters,oov_token=oov_token)\n",
    "actual_news_tokenizer.fit_on_texts(encoder_vocabulary)\n",
    "short_summary_tokenizer.fit_on_texts(decoder_vocabulary)#short_summary_train['short'])\n",
    "\n"
   ]
  },
  {
   "cell_type": "code",
   "execution_count": 16,
   "metadata": {},
   "outputs": [],
   "source": [
    "#Calcualting the vocabulary size of the encoders and the decoders\n",
    "encoder_vocabulary_size = len(actual_news_tokenizer.word_index) + 1\n",
    "decoder_vocabulary_size = len(short_summary_tokenizer.word_index) + 1\n",
    "encoder_vocabulary_size, decoder_vocabulary_size\n",
    "\n",
    "index_to_word_encoder = {}\n",
    "index_to_word_decoder = {}\n",
    "\n",
    "word_to_index_encoder = actual_news_tokenizer.word_index # word to index dic\n",
    "index_to_word_encoder[0] = '<PAD0>'\n",
    "index_to_word_decoder[0] = '<PAD0>'"
   ]
  },
  {
   "cell_type": "code",
   "execution_count": 17,
   "metadata": {},
   "outputs": [],
   "source": [
    "\n",
    "for w in actual_news_tokenizer.word_index:\n",
    "    index_to_word_encoder[actual_news_tokenizer.word_index[w]] = w\n",
    "\n",
    "word_to_index_decoder = short_summary_tokenizer.word_index # word to index dic\n",
    "\n",
    "for w in short_summary_tokenizer.word_index:\n",
    "    index_to_word_decoder[short_summary_tokenizer.word_index[w]] = w"
   ]
  },
  {
   "cell_type": "code",
   "execution_count": 18,
   "metadata": {},
   "outputs": [],
   "source": [
    "# assign a number to each word inorder to find it in word embeddings\n",
    "\n",
    "input_words = actual_news_tokenizer.texts_to_sequences(actual_news_train['long'])\n",
    "output_words = short_summary_tokenizer.texts_to_sequences(short_summary_train['short'])\n",
    "input_words_val = actual_news_tokenizer.texts_to_sequences(actual_news_val['long'])\n",
    "output_words_val = short_summary_tokenizer.texts_to_sequences(short_summary_val['short'])\n",
    "input_words = krs.preprocessing.sequence.pad_sequences(input_words, maxlen=actual_news_maximum_length, padding='post', truncating='post')\n",
    "output_words = krs.preprocessing.sequence.pad_sequences(output_words, maxlen=short_summary_maximum_length, padding='post', truncating='post')\n",
    "input_words_val = krs.preprocessing.sequence.pad_sequences(input_words_val, maxlen=actual_news_maximum_length, padding='post', truncating='post')\n",
    "output_words_val = krs.preprocessing.sequence.pad_sequences(output_words_val, maxlen=short_summary_maximum_length, padding='post', truncating='post')"
   ]
  },
  {
   "cell_type": "code",
   "execution_count": 19,
   "metadata": {},
   "outputs": [],
   "source": [
    "# validate train split\n",
    "dataset = tf.data.Dataset.from_tensor_slices((input_words,output_words)).shuffle(BUFFER_SIZE).batch(BATCH_SIZE)\n",
    "dataset_val = tf.data.Dataset.from_tensor_slices((input_words_val,output_words_val)).shuffle(BUFFER_SIZE).batch(BATCH_SIZE*2)\n",
    "\n",
    "actual_news_val.reset_index(inplace=True, drop=True)\n",
    "short_summary_val.reset_index(inplace=True, drop=True)\n",
    "actual_news_train.reset_index(inplace=True, drop=True)\n",
    "short_summary_train.reset_index(inplace=True, drop=True)\n",
    "\n",
    "\n"
   ]
  },
  {
   "cell_type": "code",
   "execution_count": 20,
   "metadata": {},
   "outputs": [],
   "source": [
    "def plotting_graph(total_data):\n",
    "    plt.title('Loss')\n",
    "    x= [i[0] for i in total_data['val']]\n",
    "    y=[i[1] for i in total_data['val']]\n",
    "    plt.plot(x,y,'x-')\n",
    "    x= [i[0] for i in total_data['train']]\n",
    "    y=[i[1] for i in total_data['train']]\n",
    "    plt.plot(x,y,'o-')\n",
    "    plt.legend(['validation','train'])\n",
    "    plt.show()\n",
    "    print('smallest val loss:', sorted(total_data['val'],key=lambda x: x[1])[0])"
   ]
  },
  {
   "cell_type": "code",
   "execution_count": 21,
   "metadata": {},
   "outputs": [],
   "source": [
    "\"\"\"The attention function used by the Transformer takes three inputs\n",
    "q - Query, k- Key and v- Value and the dot product attention is scaled \n",
    "by a factor of square root of depth\"\"\"\n",
    "\n",
    "def calculculate_scaled_dot_product_attention(q, k, v, mask):\n",
    "    matmul_qk = tf.matmul(q, k, transpose_b=True)\n",
    "    dk = tf.cast(tf.shape(k)[-1], tf.float32)\n",
    "    scaled_attention_logits = matmul_qk / tf.math.sqrt(dk)\n",
    "    if mask is not None:\n",
    "        scaled_attention_logits += (mask * -1e9)\n",
    "    attention_weights = tf.nn.softmax(scaled_attention_logits, axis=-1)\n",
    "    output = tf.matmul(attention_weights, v)\n",
    "    return output, attention_weights\n",
    "\n"
   ]
  },
  {
   "cell_type": "code",
   "execution_count": 22,
   "metadata": {},
   "outputs": [],
   "source": [
    "\"\"\"Multihead attention has primarily four layers. First is Linear layers\n",
    "split into heads Second is Scaled dot product attention, third is concatenation \n",
    "of heads and fourth is final linear layer \"\"\"\n",
    "\n",
    "class MultiHeadAttention(krs.layers.Layer):\n",
    "    def __init__(self, d_model, num_heads):\n",
    "        super(MultiHeadAttention, self).__init__()\n",
    "        self.num_heads = num_heads\n",
    "        self.d_model = d_model\n",
    "        assert d_model % self.num_heads == 0\n",
    "        self.depth = d_model // self.num_heads \n",
    "        self.wq = krs.layers.Dense(d_model,kernel_regularizer=krs.regularizers.l2(l=lmbda_l2))\n",
    "        self.wk = krs.layers.Dense(d_model,kernel_regularizer=krs.regularizers.l2(l=lmbda_l2))\n",
    "        self.wv = krs.layers.Dense(d_model,kernel_regularizer=krs.regularizers.l2(l=lmbda_l2))\n",
    "        self.dense = tf.keras.layers.Dense(d_model,kernel_regularizer=krs.regularizers.l2(l=lmbda_l2))\n",
    "    \n",
    "    # reshape the Q,K,V \n",
    "    def split_heads(self, x, batch_size):\n",
    "        x = tf.reshape(x, (batch_size, -1, self.num_heads, self.depth))\n",
    "        return tf.transpose(x, perm=[0, 2, 1, 3])\n",
    "    \n",
    "    def call(self, v, k, q, mask):\n",
    "        batch_size = tf.shape(q)[0]\n",
    "        q = self.wq(q)\n",
    "        k = self.wk(k)\n",
    "        v = self.wv(v)\n",
    "        q = self.split_heads(q, batch_size)\n",
    "        k = self.split_heads(k, batch_size)\n",
    "        v = self.split_heads(v, batch_size)\n",
    "        scaled_attention, attention_weights = calculculate_scaled_dot_product_attention(\n",
    "            q, k, v, mask)\n",
    "        scaled_attention = tf.transpose(scaled_attention, perm=[0, 2, 1, 3])\n",
    "        concat_attention = tf.reshape(scaled_attention, (batch_size, -1, self.d_model))\n",
    "        output = self.dense(concat_attention)\n",
    "        return output, attention_weights"
   ]
  },
  {
   "cell_type": "code",
   "execution_count": 25,
   "metadata": {},
   "outputs": [],
   "source": [
    "\"\"\"for the creation of the embedding layer I am using the pre trained glove model\n",
    "with 200 dimension\"\"\"\n",
    "\n",
    "def embedding_layer_generator(vocabulary_length, wordtoindex, dimension_embedding=200, glove=True,\n",
    "                              glove_path='./glove'):\n",
    "    if glove == False:\n",
    "        print('Zero MATRIX obtained')\n",
    "        embedding_matrix = np.zeros((vocabulary_length, dimension_embedding))\n",
    "    else:\n",
    "        print('Loading glove...')\n",
    "        glove_dir = glove_path\n",
    "        embeddings_index = {}\n",
    "        f = open(os.path.join(glove_dir, 'glove.6B.' + str(dimension_embedding) + 'd.txt'), encoding=\"utf-8\")\n",
    "        for line in f:\n",
    "            values = line.split()\n",
    "            word = values[0]\n",
    "            coefs = np.asarray(values[1:], dtype='float32')\n",
    "            embeddings_index[word] = coefs\n",
    "        f.close()\n",
    "        embedding_matrix = np.zeros((vocabulary_length, dimension_embedding))\n",
    "        for word, i in wordtoindex.items():\n",
    "            embedding_vector = embeddings_index.get(word)\n",
    "            if embedding_vector is not None:\n",
    "                embedding_matrix[i] = embedding_vector\n",
    "\n",
    "        print(\"GloVe \", dimension_embedding, ' loaded!')\n",
    "\n",
    "    embedding_layer = Embedding(vocabulary_length, dimension_embedding, mask_zero=True, trainable=False)\n",
    "    embedding_layer.build((None,))\n",
    "    embedding_layer.set_weights([embedding_matrix])\n",
    "    return embedding_layer\n",
    "\n",
    "\n"
   ]
  },
  {
   "cell_type": "code",
   "execution_count": 26,
   "metadata": {},
   "outputs": [
    {
     "name": "stdout",
     "output_type": "stream",
     "text": [
      "Loading glove...\n",
      "GloVe  200  loaded!\n",
      "Loading glove...\n",
      "GloVe  200  loaded!\n"
     ]
    }
   ],
   "source": [
    "\"\"\"Generating the Embedding layer for the encoder and the decoder\"\"\"\n",
    "\n",
    "embeddings_encoder = embedding_layer_generator(encoder_vocabulary_size, word_to_index_encoder,\n",
    "                                               dimension_embedding=dimension_embedding, glove=True)\n",
    "embeddings_decoder = embedding_layer_generator(decoder_vocabulary_size, word_to_index_decoder,\n",
    "                                               dimension_embedding=dimension_embedding, glove=True)"
   ]
  },
  {
   "cell_type": "code",
   "execution_count": 27,
   "metadata": {},
   "outputs": [],
   "source": [
    "\"\"\"The positional encoding vector is added to the embedding vector. The Embedding\n",
    "dimension taken is 200 \"\"\"\n",
    "\n",
    "def get_angles(position, i, d_model):\n",
    "    angle_rates = 1 / np.power(10000, (2 * (i // 2)) / np.float32(d_model))\n",
    "    return position * angle_rates\n",
    "\n",
    "def positional_encoding(position, d_model):\n",
    "    angle_rads = get_angles(\n",
    "        np.arange(position)[:, np.newaxis],\n",
    "        np.arange(d_model)[np.newaxis, :],\n",
    "        d_model\n",
    "    )\n",
    "    angle_rads[:, 0::2] = np.sin(angle_rads[:, 0::2])\n",
    "    angle_rads[:, 1::2] = np.cos(angle_rads[:, 1::2])\n",
    "    pos_encoding = angle_rads[np.newaxis, ...]\n",
    "    return tf.cast(pos_encoding, dtype=tf.float32)\n",
    "\n",
    "\n"
   ]
  },
  {
   "cell_type": "code",
   "execution_count": 28,
   "metadata": {},
   "outputs": [],
   "source": [
    "# hyper-params\n",
    "init_lr = 1e-3\n",
    "lmbda_l2 = 0.1\n",
    "d_out_rate = 0.1 \n",
    "num_layers = 4 \n",
    "d_model = dimension_embedding\n",
    "dff = 512 \n",
    "num_heads = 5 "
   ]
  },
  {
   "cell_type": "code",
   "execution_count": 29,
   "metadata": {},
   "outputs": [],
   "source": [
    "\"\"\"Point wise feed forward network consists of two fully connected layers with a ReLU activation\n",
    "in between \"\"\"\n",
    "\n",
    "def point_wise_feed_forward_network(d_model, dff):\n",
    "    return krs.Sequential([\n",
    "        krs.layers.Dense(dff, activation='relu',kernel_regularizer=krs.regularizers.l2(l=lmbda_l2)),\n",
    "        krs.layers.Dense(d_model,kernel_regularizer=krs.regularizers.l2(l=lmbda_l2))\n",
    "    ])\n",
    "\n"
   ]
  },
  {
   "cell_type": "code",
   "execution_count": 30,
   "metadata": {},
   "outputs": [],
   "source": [
    "\"\"\"Each encoder layer consists of  sublayers - First is Multi head attention\n",
    "with padding mask and the second is point wise feed forward networks. \"\"\"\n",
    "\n",
    "\n",
    "class EncoderLayer(krs.layers.Layer):\n",
    "    def __init__(self, d_model, num_heads, dff, rate=d_out_rate):\n",
    "        super(EncoderLayer, self).__init__()\n",
    "        self.mha = MultiHeadAttention(d_model, num_heads)\n",
    "        self.ffn = point_wise_feed_forward_network(d_model, dff)\n",
    "        self.layernorm1 = krs.layers.LayerNormalization(epsilon=1e-6)\n",
    "        self.layernorm2 = krs.layers.LayerNormalization(epsilon=1e-6)\n",
    "        self.dropout1 = krs.layers.Dropout(rate)\n",
    "        self.dropout2 = krs.layers.Dropout(rate)\n",
    "   \n",
    "    def call(self, x, training, mask):\n",
    "        attn_output, _ = self.mha(x, x, x, mask)\n",
    "        attn_output = self.dropout1(attn_output, training=training)\n",
    "        out1 = self.layernorm1(x + attn_output)\n",
    "        ffn_output = self.ffn(out1)\n",
    "        ffn_output = self.dropout2(ffn_output, training=training)\n",
    "        out2 = self.layernorm2(out1 + ffn_output)\n",
    "        return out2\n",
    "\n"
   ]
  },
  {
   "cell_type": "code",
   "execution_count": 31,
   "metadata": {},
   "outputs": [],
   "source": [
    "\"\"\" Each decoder consists of sublayers. First is the Masked multi head attention\n",
    "with look ahead mask and padding mask and the Second is Multi head attention with \n",
    "padding mask. V - values and k- key recieve the encoder output as input Q(query) \n",
    "and this recieves the output from the masked multi head attention sublyer. And the third is the\n",
    "point wise feed forward network\"\"\"\n",
    "\n",
    "class DecoderLayer(krs.layers.Layer):\n",
    "    def __init__(self, d_model, num_heads, dff, rate=d_out_rate):\n",
    "        super(DecoderLayer, self).__init__()\n",
    "        self.mha1 = MultiHeadAttention(d_model, num_heads)\n",
    "        self.mha2 = MultiHeadAttention(d_model, num_heads)\n",
    "        self.ffn = point_wise_feed_forward_network(d_model, dff)\n",
    "        self.layernorm1 = krs.layers.LayerNormalization(epsilon=1e-6)\n",
    "        self.layernorm2 = krs.layers.LayerNormalization(epsilon=1e-6)\n",
    "        self.layernorm3 = krs.layers.LayerNormalization(epsilon=1e-6)\n",
    "        self.dropout1 = krs.layers.Dropout(rate)\n",
    "        self.dropout2 = krs.layers.Dropout(rate)\n",
    "        self.dropout3 = krs.layers.Dropout(rate)\n",
    "    \n",
    "    def call(self, x, enc_output, training, look_ahead_mask, padding_mask):\n",
    "        attn1, attn_weights_block1 = self.mha1(x, x, x, look_ahead_mask)\n",
    "        attn1 = self.dropout1(attn1, training=training)\n",
    "        out1 = self.layernorm1(attn1 + x)\n",
    "        attn2, attn_weights_block2 = self.mha2(enc_output, enc_output, out1, padding_mask)\n",
    "        attn2 = self.dropout2(attn2, training=training)\n",
    "        out2 = self.layernorm2(attn2 + out1)\n",
    "        ffn_output = self.ffn(out2)\n",
    "        ffn_output = self.dropout3(ffn_output, training=training)\n",
    "        out3 = self.layernorm3(ffn_output + out2)\n",
    "        return out3, attn_weights_block1, attn_weights_block2"
   ]
  },
  {
   "cell_type": "code",
   "execution_count": 32,
   "metadata": {},
   "outputs": [],
   "source": [
    "\"\"\" The Decoder consists of Output Embedding,Positional Embedding \n",
    "and N decoder layers. The target is put through an embedding which is \n",
    "summed up with the positional encoding. Output of the summation is the input to\n",
    "the deocder layer. The output of decoder is input to linear layer \"\"\"\n",
    "\n",
    "\n",
    "class Decoder(krs.layers.Layer):\n",
    "    def __init__(self, num_layers, d_model, num_heads, dff, target_vocab_size, maximum_position_encoding,\n",
    "                 rate=d_out_rate):\n",
    "        super(Decoder, self).__init__()\n",
    "        self.d_model = d_model\n",
    "        self.num_layers = num_layers\n",
    "        self.embedding = embeddings_decoder\n",
    "        self.pos_encoding = positional_encoding(maximum_position_encoding, d_model)\n",
    "        self.dec_layers = [DecoderLayer(d_model, num_heads, dff, rate) for _ in range(num_layers)]\n",
    "        self.dropout = krs.layers.Dropout(rate)\n",
    "\n",
    "    def call(self, x, enc_output, training, look_ahead_mask, padding_mask):\n",
    "        seq_len = tf.shape(x)[1]\n",
    "        attention_weights = {}\n",
    "        x = self.embedding(x)\n",
    "        x *= tf.math.sqrt(tf.cast(self.d_model, tf.float32))\n",
    "        x += self.pos_encoding[:, :seq_len, :]\n",
    "        x = self.dropout(x, training=training)\n",
    "\n",
    "        for i in range(self.num_layers):\n",
    "            x, block1, block2 = self.dec_layers[i](x, enc_output, training, look_ahead_mask, padding_mask)\n",
    "\n",
    "            attention_weights['decoder_layer{}_block1'.format(i + 1)] = block1\n",
    "            attention_weights['decoder_layer{}_block2'.format(i + 1)] = block2\n",
    "\n",
    "        return x, attention_weights\n",
    "\n",
    "\n",
    "\n"
   ]
  },
  {
   "cell_type": "code",
   "execution_count": 33,
   "metadata": {},
   "outputs": [],
   "source": [
    "\"\"\"Masking all the pad tokens in the batch of sequence. This ensures that padding is not treated as input\n",
    "it ouputs 1 where value of 0 is there and vice versa \"\"\"\n",
    "\n",
    "def create_padding_mask(seq):\n",
    "    seq = tf.cast(tf.math.equal(seq, 0), tf.float32)\n",
    "    return seq[:, tf.newaxis, tf.newaxis, :]\n",
    "\n",
    "\"\"\"look ahead Mask is used to mask the future tokens in a sequence\"\"\"\n",
    "\n",
    "def create_look_ahead_mask(size):\n",
    "    mask = 1 - tf.linalg.band_part(tf.ones((size, size)), -1, 0)\n",
    "    return mask\n",
    "\n",
    "def create_masks(inp, tar):\n",
    "    enc_padding_mask = create_padding_mask(inp)\n",
    "    dec_padding_mask = create_padding_mask(inp)\n",
    "    look_ahead_mask = create_look_ahead_mask(tf.shape(tar)[1])\n",
    "    dec_target_padding_mask = create_padding_mask(tar)\n",
    "    combined_mask = tf.maximum(dec_target_padding_mask, look_ahead_mask)\n",
    "    return enc_padding_mask, combined_mask, dec_padding_mask\n",
    "\n",
    "\n",
    "\n"
   ]
  },
  {
   "cell_type": "code",
   "execution_count": 34,
   "metadata": {},
   "outputs": [],
   "source": [
    "\"\"\" The Encoder primarily consists of Input Embedding,Positional Encoding,\n",
    "and N encoder layers. The input is put through embedding which is summed up\n",
    "with the positional encoding \"\"\"\n",
    "\n",
    "class Encoder(krs.layers.Layer):\n",
    "    def __init__(self, num_layers, d_model, num_heads, dff, input_vocab_size, maximum_position_encoding, rate=d_out_rate):\n",
    "        super(Encoder, self).__init__()\n",
    "        self.d_model = d_model\n",
    "        self.num_layers = num_layers\n",
    "        self.embedding = embeddings_encoder\n",
    "        self.pos_encoding = positional_encoding(maximum_position_encoding, self.d_model)\n",
    "        self.enc_layers = [EncoderLayer(d_model, num_heads, dff, rate) for _ in range(num_layers)]\n",
    "        self.dropout = krs.layers.Dropout(rate)\n",
    "        self.dropout_embd = krs.layers.Dropout(rate)\n",
    "        \n",
    "    def call(self, x, training, mask):\n",
    "        seq_len = tf.shape(x)[1]\n",
    "        x = self.embedding(x)\n",
    "        x = self.dropout_embd(x, training=training) \n",
    "        x *= tf.math.sqrt(tf.cast(self.d_model, tf.float32))\n",
    "        x += self.pos_encoding[:, :seq_len, :]\n",
    "        x = self.dropout(x, training=training)\n",
    "    \n",
    "        for i in range(self.num_layers):\n",
    "            x = self.enc_layers[i](x, training, mask)\n",
    "    \n",
    "        return x\n",
    "\n"
   ]
  },
  {
   "cell_type": "code",
   "execution_count": 35,
   "metadata": {},
   "outputs": [],
   "source": [
    "\"\"\"Transformer consist of the Encoder,Decoder and a final layer. The output of the decoder is the \n",
    "input to the linear layer and its output is returned.\"\"\"\n",
    "\n",
    "class Transformer(krs.Model):\n",
    "    def __init__(self, num_layers, d_model, num_heads, dff, input_vocab_size,\n",
    "                                     target_vocab_size, pe_input, pe_target, rate=d_out_rate):\n",
    "        super(Transformer, self).__init__()\n",
    "        self.encoder = Encoder(num_layers, d_model, num_heads, dff, input_vocab_size, pe_input, rate)\n",
    "        self.decoder = Decoder(num_layers, d_model, num_heads, dff, target_vocab_size, pe_target, rate)\n",
    "        self.final_layer = krs.layers.Dense(target_vocab_size, kernel_regularizer=krs.regularizers.l2(l=lmbda_l2))\n",
    "        \n",
    "    \n",
    "    def call(self, inp, tar, training, enc_padding_mask, look_ahead_mask, dec_padding_mask):\n",
    "        enc_output = self.encoder(inp, training, enc_padding_mask)\n",
    "        dec_output, attention_weights = self.decoder(tar, enc_output, training, look_ahead_mask, dec_padding_mask)\n",
    "        final_output = self.final_layer(dec_output)\n",
    "        return final_output, attention_weights\n",
    "\n"
   ]
  },
  {
   "cell_type": "code",
   "execution_count": 36,
   "metadata": {},
   "outputs": [],
   "source": [
    "\"\"\"hyperparameters of the Transformer \"\"\"\n",
    "\n",
    "transformer = Transformer(\n",
    "    num_layers, \n",
    "    d_model, \n",
    "    num_heads, \n",
    "    dff,\n",
    "    encoder_vocabulary_size,\n",
    "    decoder_vocabulary_size,\n",
    "    pe_input=actual_news_maximum_length,\n",
    "    pe_target=short_summary_maximum_length,\n",
    ")\n",
    "\n",
    "lr_schedule = krs.optimizers.schedules.ExponentialDecay(\n",
    "    initial_learning_rate=init_lr, # originally was 1e-5\n",
    "    decay_steps=4000, # approximately 5 epochs\n",
    "    decay_rate=0.95) # originally was 0.9\n",
    "\n",
    "optimizer2 = Adam(lr_schedule , beta_1=0.9, beta_2=0.98, epsilon=1e-9) \n",
    "loss_object = SparseCategoricalCrossentropy(from_logits=True, reduction='none')\n",
    "\n"
   ]
  },
  {
   "cell_type": "code",
   "execution_count": 37,
   "metadata": {},
   "outputs": [],
   "source": [
    "def loss_function(real, pred, l2= False):\n",
    " \n",
    "    if l2:\n",
    "        lambda_ = 0.0001\n",
    "        l2_norms = [tf.nn.l2_loss(v) for v in transformer.trainable_variables]\n",
    "        l2_norm = tf.reduce_sum(l2_norms)\n",
    "        l2_value = lambda_ * l2_norm\n",
    "        loss_ = loss_object(real, pred) + l2_value\n",
    "    else:\n",
    "        loss_ = loss_object(real, pred) \n",
    "    \n",
    "    mask = tf.math.logical_not(tf.math.equal(real, 0))\n",
    "    mask = tf.cast(mask, dtype=loss_.dtype)\n",
    "    loss_ *= mask\n",
    "    \n",
    "    return tf.reduce_sum(loss_)/tf.reduce_sum(mask)\n",
    "\n"
   ]
  },
  {
   "cell_type": "code",
   "execution_count": 38,
   "metadata": {},
   "outputs": [],
   "source": [
    "\"\"\" Check point path and check point manager will be used to save check points every n seconds \"\"\"\n",
    "\n",
    "checkpoint_path4 =\"checkpoints4\"\n",
    "\n",
    "ckpt4 = tf.train.Checkpoint(transformer=transformer, optimizer=optimizer2)\n",
    "ckpt_manager4 = tf.train.CheckpointManager(ckpt4, checkpoint_path4, max_to_keep=100)\n",
    "\n"
   ]
  },
  {
   "cell_type": "code",
   "execution_count": 39,
   "metadata": {},
   "outputs": [],
   "source": [
    "def evaluate(input_document):\n",
    "    input_document = actual_news_tokenizer.texts_to_sequences([input_document])\n",
    "    input_document = krs.preprocessing.sequence.pad_sequences(input_document, maxlen=actual_news_maximum_length,\n",
    "                                                                           padding='post', truncating='post')\n",
    "    \n",
    "    encoder_input = tf.expand_dims(input_document[0], 0)\n",
    "    decoder_input = [short_summary_tokenizer.word_index[start_token]]\n",
    "    output = tf.expand_dims(decoder_input, 0)\n",
    "    \n",
    "    for i in range(short_summary_maximum_length):\n",
    "        enc_padding_mask, combined_mask, dec_padding_mask = create_masks(encoder_input, output)\n",
    "\n",
    "        predictions, attention_weights = transformer(\n",
    "            encoder_input, \n",
    "            output,\n",
    "            False,\n",
    "            enc_padding_mask,\n",
    "            combined_mask,\n",
    "            dec_padding_mask\n",
    "        )\n",
    "\n",
    "        predictions = predictions[: ,-1:, :]\n",
    "        predicted_id = tf.cast(tf.argmax(predictions, axis=-1), tf.int32)\n",
    "        \"\"\" Stop the predictions as soon as the End token is noticed\"\"\"\n",
    "        if predicted_id == short_summary_tokenizer.word_index[end_token]:\n",
    "            return tf.squeeze(output, axis=0), attention_weights\n",
    "        output = tf.concat([output, predicted_id], axis=-1)\n",
    "    return tf.squeeze(output, axis=0), attention_weights\n",
    "\n"
   ]
  },
  {
   "cell_type": "code",
   "execution_count": 40,
   "metadata": {},
   "outputs": [],
   "source": [
    "def summary_generator(input_document):\n",
    "    summarized = evaluate(input_document=input_document)[0].numpy()\n",
    "    summarized = np.expand_dims(summarized[1:], 0) \n",
    "    return short_summary_tokenizer.sequences_to_texts(summarized)[0]\n",
    "\n",
    "def validate():\n",
    "    print('validation started ...')\n",
    "    val_loss.reset_states()\n",
    "    for (batch, (inp, tar)) in enumerate(dataset_val):    \n",
    "        tar_inp = tar[:, :-1] \n",
    "        tar_real = tar[:, 1:]\n",
    "        enc_padding_mask, combined_mask, dec_padding_mask = create_masks(inp, tar_inp)\n",
    "        predictions, _ = transformer(\n",
    "            inp, tar_inp, \n",
    "            False, \n",
    "            enc_padding_mask, \n",
    "            combined_mask, \n",
    "            dec_padding_mask\n",
    "        )\n",
    "        loss = loss_function(tar_real, predictions)\n",
    "        val_loss(loss)\n",
    "    print('\\n* Validation loss: {} '.format(val_loss.result()) )\n",
    "    return val_loss.result()\n",
    "\n"
   ]
  },
  {
   "cell_type": "code",
   "execution_count": 41,
   "metadata": {},
   "outputs": [],
   "source": [
    "\"\"\" The @tf.function trace compiles train_steps into a TF graph for faster execution.\"\"\"\n",
    "\n",
    "@tf.function \n",
    "def train_step(inp, tar):\n",
    "    tar_inp = tar[:, :-1] \n",
    "    tar_real = tar[:, 1:]\n",
    "    enc_padding_mask, combined_mask, dec_padding_mask = create_masks(inp, tar_inp)\n",
    "    with tf.GradientTape() as tape:\n",
    "        predictions, _ = transformer(\n",
    "            inp, tar_inp, \n",
    "            True, \n",
    "            enc_padding_mask, \n",
    "            combined_mask, \n",
    "            dec_padding_mask\n",
    "        )\n",
    "        loss = loss_function(tar_real, predictions)\n",
    "    gradients = tape.gradient(loss, transformer.trainable_variables)    \n",
    "    optimizer2.apply_gradients(zip(gradients, transformer.trainable_variables))\n",
    "    train_loss(loss)\n",
    "\n"
   ]
  },
  {
   "cell_type": "code",
   "execution_count": 42,
   "metadata": {},
   "outputs": [
    {
     "data": {
      "text/plain": [
       "{'lmbda_l2': 0.1,\n",
       " 'd_out_rate': 0.1,\n",
       " 'num_layers': 4,\n",
       " 'd_model': 200,\n",
       " 'dff': 512,\n",
       " 'num_heads': 5,\n",
       " 'init_lr': 0.001}"
      ]
     },
     "execution_count": 42,
     "metadata": {},
     "output_type": "execute_result"
    }
   ],
   "source": [
    "total_data={'val':[],'train':[]}\n",
    "EPOCHS =20\n",
    "not_progressing = 0\n",
    "train_loss = krs.metrics.Mean(name='train_loss')\n",
    "val_loss = krs.metrics.Mean(name='val_loss')\n",
    "\n",
    "params = {\n",
    "'lmbda_l2' : lmbda_l2,\n",
    "'d_out_rate' :d_out_rate,\n",
    "'num_layers' : num_layers ,\n",
    "'d_model' : d_model  ,\n",
    "'dff' : dff ,\n",
    "'num_heads' : num_heads,\n",
    "'init_lr':init_lr}\n",
    "params\n",
    "\n"
   ]
  },
  {
   "cell_type": "code",
   "execution_count": null,
   "metadata": {},
   "outputs": [
    {
     "name": "stdout",
     "output_type": "stream",
     "text": [
      "Epoch 1 Batch 0 Loss 9.1191\n",
      "Epoch 1 Batch 150 Loss 7.0757\n",
      "Epoch 1 Batch 300 Loss 6.9545\n",
      "Epoch 1 Batch 450 Loss 6.8719\n",
      "Epoch 1 Batch 600 Loss 6.8129\n",
      "Epoch 1 Batch 750 Loss 6.7656\n",
      "\n",
      "<UNK> <UNK> <UNK> <UNK> <UNK> <UNK> <UNK>\n",
      "<UNK> <UNK> <UNK> <UNK> <UNK> <UNK> <UNK>\n",
      "\n",
      "validation started ...\n",
      "\n",
      "* Validation loss: 6.393139362335205 \n",
      "\n",
      "* Train Loss 6.7591\n",
      "\n",
      "Saving checkpoint for epoch 1 at checkpoints4/ckpt-1\n"
     ]
    },
    {
     "data": {
      "image/png": "[encoded data removed]",
      "text/plain": [
       "<Figure size 432x288 with 1 Axes>"
      ]
     },
     "metadata": {
      "needs_background": "light"
     },
     "output_type": "display_data"
    },
    {
     "name": "stdout",
     "output_type": "stream",
     "text": [
      "smallest val loss: (1, 6.3931394)\n",
      "Current Lr:  0.0009901111\n",
      "\n",
      "Time taken for this epoch: 402.90 secs\n",
      "\n",
      "========================================\n",
      "Epoch 2 Batch 0 Loss 6.6625\n",
      "Epoch 2 Batch 150 Loss 6.4700\n",
      "Epoch 2 Batch 300 Loss 6.4550\n",
      "Epoch 2 Batch 450 Loss 6.4462\n",
      "Epoch 2 Batch 600 Loss 6.4265\n",
      "Epoch 2 Batch 750 Loss 6.4091\n",
      "\n",
      "<UNK> <UNK> <UNK> to <UNK> <UNK> in <UNK>\n",
      "<UNK> <UNK> <UNK> to <UNK> <UNK> in <UNK>\n",
      "\n",
      "validation started ...\n",
      "\n",
      "* Validation loss: 6.1897873878479 \n",
      "\n",
      "* Train Loss 6.4060\n",
      "\n",
      "Saving checkpoint for epoch 2 at checkpoints4/ckpt-2\n"
     ]
    },
    {
     "data": {
      "image/png": "[encoded data removed]",
      "text/plain": [
       "<Figure size 432x288 with 1 Axes>"
      ]
     },
     "metadata": {
      "needs_background": "light"
     },
     "output_type": "display_data"
    },
    {
     "name": "stdout",
     "output_type": "stream",
     "text": [
      "smallest val loss: (2, 6.1897874)\n",
      "Current Lr:  0.0009803202\n",
      "\n",
      "Time taken for this epoch: 394.69 secs\n",
      "\n",
      "========================================\n",
      "Epoch 3 Batch 0 Loss 6.0097\n",
      "Epoch 3 Batch 150 Loss 6.2572\n",
      "Epoch 3 Batch 300 Loss 6.2412\n",
      "Epoch 3 Batch 450 Loss 6.2146\n",
      "Epoch 3 Batch 600 Loss 6.1926\n",
      "Epoch 3 Batch 750 Loss 6.1689\n",
      "\n",
      "<UNK> <UNK> <UNK> <UNK> <UNK> <UNK> <UNK>\n",
      "<UNK> <UNK> <UNK> <UNK> <UNK> <UNK> <UNK>\n",
      "\n",
      "validation started ...\n",
      "\n",
      "* Validation loss: 5.939338684082031 \n",
      "\n",
      "* Train Loss 6.1669\n",
      "\n",
      "Saving checkpoint for epoch 3 at checkpoints4/ckpt-3\n"
     ]
    },
    {
     "data": {
      "image/png": "[encoded data removed]",
      "text/plain": [
       "<Figure size 432x288 with 1 Axes>"
      ]
     },
     "metadata": {
      "needs_background": "light"
     },
     "output_type": "display_data"
    },
    {
     "name": "stdout",
     "output_type": "stream",
     "text": [
      "smallest val loss: (3, 5.9393387)\n",
      "Current Lr:  0.00097062584\n",
      "\n",
      "Time taken for this epoch: 400.86 secs\n",
      "\n",
      "========================================\n",
      "Epoch 4 Batch 0 Loss 6.0311\n"
     ]
    }
   ],
   "source": [
    "ep = 1\n",
    "best_val_loss = np.inf\n",
    "i1,i2,i3,i4 = np.random.randint(len(short_summary_val)),np.random.randint(len(short_summary_val)),np.random.randint(len(short_summary_val)),np.random.randint(len(short_summary_val))\n",
    "\n",
    "for epoch in range(ep,EPOCHS+1):\n",
    "    ep = epoch\n",
    "    start = time.time()\n",
    "\n",
    "    train_loss.reset_states()\n",
    "    for (batch, (inp, tar)) in enumerate(dataset):\n",
    "        train_step(inp, tar)\n",
    "        if batch % 150 == 0:\n",
    "            print ('Epoch {} Batch {} Loss {:.4f}'.format(epoch , batch, train_loss.result()))\n",
    "                  \n",
    "    print()\n",
    "    print(summary_generator(data_preprocessing(actual_news_val['long'][i1])))\n",
    "    print(summary_generator(data_preprocessing(actual_news_val['long'][i2])))\n",
    "    print()\n",
    "    \n",
    "    val_loss_ = validate().numpy()\n",
    "    total_data['val'].append((epoch,val_loss_))\n",
    "    print ('\\n* Train Loss {:.4f}'.format(train_loss.result()))\n",
    "    total_data['train'].append((epoch,train_loss.result().numpy()))\n",
    "    if best_val_loss-val_loss_ > 0.1:\n",
    "        ckpt_save_path4 = ckpt_manager4.save()\n",
    "        print ('\\nSaving checkpoint for epoch {} at {}'.format(epoch, ckpt_save_path4))  \n",
    "        best_val_loss = val_loss_\n",
    "    \n",
    "    plotting_graph(total_data)\n",
    "    print('Current Lr: ',optimizer2._decayed_lr('float32').numpy())\n",
    "    print ('\\nTime taken for this epoch: {:.2f} secs\\n'.format(time.time() - start))\n",
    "    print('='*40)\n",
    "\n",
    "\n"
   ]
  },
  {
   "cell_type": "code",
   "execution_count": 42,
   "metadata": {},
   "outputs": [
    {
     "data": {
      "image/png": "[encoded data removed]",
      "text/plain": [
       "<Figure size 432x288 with 1 Axes>"
      ]
     },
     "metadata": {
      "needs_background": "light"
     },
     "output_type": "display_data"
    },
    {
     "name": "stdout",
     "output_type": "stream",
     "text": [
      "smallest val loss: (1, 6.5178356)\n"
     ]
    },
    {
     "data": {
      "text/plain": [
       "{'lmbda_l2': 0.1,\n",
       " 'd_out_rate': 0.1,\n",
       " 'num_layers': 4,\n",
       " 'd_model': 200,\n",
       " 'dff': 512,\n",
       " 'num_heads': 5,\n",
       " 'init_lr': 0.001}"
      ]
     },
     "execution_count": 42,
     "metadata": {},
     "output_type": "execute_result"
    }
   ],
   "source": [
    "plotting_graph(total_data)\n",
    "params"
   ]
  },
  {
   "cell_type": "code",
   "execution_count": null,
   "metadata": {},
   "outputs": [],
   "source": [
    "\"\"\"Printing the actual news and the predicted summary \"\"\"\n",
    "print(data_preprocessing(actual_news_val['long'][i1]))\n",
    "print()\n",
    "print(summary_generator(data_preprocessing(actual_news_val['long'][i1])))"
   ]
  },
  {
   "cell_type": "code",
   "execution_count": null,
   "metadata": {},
   "outputs": [],
   "source": [
    "from rouge import rouge"
   ]
  },
  {
   "cell_type": "code",
   "execution_count": 46,
   "metadata": {},
   "outputs": [
    {
     "name": "stdout",
     "output_type": "stream",
     "text": [
      "{'rouge_1/f_score': 0.0, 'rouge_1/r_score': 0.0, 'rouge_1/p_score': 0.0, 'rouge_2/f_score': 0.0, 'rouge_2/r_score': 0.0, 'rouge_2/p_score': 0.0, 'rouge_l/f_score': 0.0, 'rouge_l/r_score': 0.0, 'rouge_l/p_score': 0.0}\n"
     ]
    }
   ],
   "source": [
    "print(rouge([data_preprocessing(actual_news_val['long'][i1])],[summary_generator(data_preprocessing(actual_news_val['long'][i1]))]))"
   ]
  },
  {
   "cell_type": "code",
   "execution_count": null,
   "metadata": {},
   "outputs": [],
   "source": [
    "print(actual_news_val['long'][i1])"
   ]
  }
 ],
 "metadata": {
  "kernelspec": {
   "display_name": "Python 3",
   "language": "python",
   "name": "python3"
  },
  "language_info": {
   "codemirror_mode": {
    "name": "ipython",
    "version": 3
   },
   "file_extension": ".py",
   "mimetype": "text/x-python",
   "name": "python",
   "nbconvert_exporter": "python",
   "pygments_lexer": "ipython3",
   "version": "3.8.2"
  }
 },
 "nbformat": 4,
 "nbformat_minor": 2
}
